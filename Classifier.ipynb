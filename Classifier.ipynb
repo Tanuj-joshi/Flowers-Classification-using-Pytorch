{
  "nbformat": 4,
  "nbformat_minor": 0,
  "metadata": {
    "kernelspec": {
      "display_name": "Python 3",
      "language": "python",
      "name": "python3"
    },
    "language_info": {
      "codemirror_mode": {
        "name": "ipython",
        "version": 3
      },
      "file_extension": ".py",
      "mimetype": "text/x-python",
      "name": "python",
      "nbconvert_exporter": "python",
      "pygments_lexer": "ipython3",
      "version": "3.7.9"
    },
    "colab": {
      "name": "Image Classifier Project.ipynb",
      "provenance": [],
      "collapsed_sections": []
    },
    "widgets": {
      "application/vnd.jupyter.widget-state+json": {
        "f4502809ef474d1997e536b477ebe384": {
          "model_module": "@jupyter-widgets/controls",
          "model_name": "HBoxModel",
          "state": {
            "_view_name": "HBoxView",
            "_dom_classes": [],
            "_model_name": "HBoxModel",
            "_view_module": "@jupyter-widgets/controls",
            "_model_module_version": "1.5.0",
            "_view_count": null,
            "_view_module_version": "1.5.0",
            "box_style": "",
            "layout": "IPY_MODEL_4e63d85a39974054967d9dc48100dd97",
            "_model_module": "@jupyter-widgets/controls",
            "children": [
              "IPY_MODEL_82b3ad02c3944b74a40e020648da273a",
              "IPY_MODEL_610b7a81454544588c53a6138825f1fa"
            ]
          }
        },
        "4e63d85a39974054967d9dc48100dd97": {
          "model_module": "@jupyter-widgets/base",
          "model_name": "LayoutModel",
          "state": {
            "_view_name": "LayoutView",
            "grid_template_rows": null,
            "right": null,
            "justify_content": null,
            "_view_module": "@jupyter-widgets/base",
            "overflow": null,
            "_model_module_version": "1.2.0",
            "_view_count": null,
            "flex_flow": null,
            "width": null,
            "min_width": null,
            "border": null,
            "align_items": null,
            "bottom": null,
            "_model_module": "@jupyter-widgets/base",
            "top": null,
            "grid_column": null,
            "overflow_y": null,
            "overflow_x": null,
            "grid_auto_flow": null,
            "grid_area": null,
            "grid_template_columns": null,
            "flex": null,
            "_model_name": "LayoutModel",
            "justify_items": null,
            "grid_row": null,
            "max_height": null,
            "align_content": null,
            "visibility": null,
            "align_self": null,
            "height": null,
            "min_height": null,
            "padding": null,
            "grid_auto_rows": null,
            "grid_gap": null,
            "max_width": null,
            "order": null,
            "_view_module_version": "1.2.0",
            "grid_template_areas": null,
            "object_position": null,
            "object_fit": null,
            "grid_auto_columns": null,
            "margin": null,
            "display": null,
            "left": null
          }
        },
        "82b3ad02c3944b74a40e020648da273a": {
          "model_module": "@jupyter-widgets/controls",
          "model_name": "FloatProgressModel",
          "state": {
            "_view_name": "ProgressView",
            "style": "IPY_MODEL_e808a2aa1f82499bb82690c99f0d9e05",
            "_dom_classes": [],
            "description": "100%",
            "_model_name": "FloatProgressModel",
            "bar_style": "success",
            "max": 553433881,
            "_view_module": "@jupyter-widgets/controls",
            "_model_module_version": "1.5.0",
            "value": 553433881,
            "_view_count": null,
            "_view_module_version": "1.5.0",
            "orientation": "horizontal",
            "min": 0,
            "description_tooltip": null,
            "_model_module": "@jupyter-widgets/controls",
            "layout": "IPY_MODEL_b041db7483254741aff37f7c45e9296a"
          }
        },
        "610b7a81454544588c53a6138825f1fa": {
          "model_module": "@jupyter-widgets/controls",
          "model_name": "HTMLModel",
          "state": {
            "_view_name": "HTMLView",
            "style": "IPY_MODEL_78853d7c12254f5f8934960e4e4a8009",
            "_dom_classes": [],
            "description": "",
            "_model_name": "HTMLModel",
            "placeholder": "​",
            "_view_module": "@jupyter-widgets/controls",
            "_model_module_version": "1.5.0",
            "value": " 528M/528M [00:34&lt;00:00, 15.9MB/s]",
            "_view_count": null,
            "_view_module_version": "1.5.0",
            "description_tooltip": null,
            "_model_module": "@jupyter-widgets/controls",
            "layout": "IPY_MODEL_7f7b36f49ae84ad99a04ecc18f8ee749"
          }
        },
        "e808a2aa1f82499bb82690c99f0d9e05": {
          "model_module": "@jupyter-widgets/controls",
          "model_name": "ProgressStyleModel",
          "state": {
            "_view_name": "StyleView",
            "_model_name": "ProgressStyleModel",
            "description_width": "initial",
            "_view_module": "@jupyter-widgets/base",
            "_model_module_version": "1.5.0",
            "_view_count": null,
            "_view_module_version": "1.2.0",
            "bar_color": null,
            "_model_module": "@jupyter-widgets/controls"
          }
        },
        "b041db7483254741aff37f7c45e9296a": {
          "model_module": "@jupyter-widgets/base",
          "model_name": "LayoutModel",
          "state": {
            "_view_name": "LayoutView",
            "grid_template_rows": null,
            "right": null,
            "justify_content": null,
            "_view_module": "@jupyter-widgets/base",
            "overflow": null,
            "_model_module_version": "1.2.0",
            "_view_count": null,
            "flex_flow": null,
            "width": null,
            "min_width": null,
            "border": null,
            "align_items": null,
            "bottom": null,
            "_model_module": "@jupyter-widgets/base",
            "top": null,
            "grid_column": null,
            "overflow_y": null,
            "overflow_x": null,
            "grid_auto_flow": null,
            "grid_area": null,
            "grid_template_columns": null,
            "flex": null,
            "_model_name": "LayoutModel",
            "justify_items": null,
            "grid_row": null,
            "max_height": null,
            "align_content": null,
            "visibility": null,
            "align_self": null,
            "height": null,
            "min_height": null,
            "padding": null,
            "grid_auto_rows": null,
            "grid_gap": null,
            "max_width": null,
            "order": null,
            "_view_module_version": "1.2.0",
            "grid_template_areas": null,
            "object_position": null,
            "object_fit": null,
            "grid_auto_columns": null,
            "margin": null,
            "display": null,
            "left": null
          }
        },
        "78853d7c12254f5f8934960e4e4a8009": {
          "model_module": "@jupyter-widgets/controls",
          "model_name": "DescriptionStyleModel",
          "state": {
            "_view_name": "StyleView",
            "_model_name": "DescriptionStyleModel",
            "description_width": "",
            "_view_module": "@jupyter-widgets/base",
            "_model_module_version": "1.5.0",
            "_view_count": null,
            "_view_module_version": "1.2.0",
            "_model_module": "@jupyter-widgets/controls"
          }
        },
        "7f7b36f49ae84ad99a04ecc18f8ee749": {
          "model_module": "@jupyter-widgets/base",
          "model_name": "LayoutModel",
          "state": {
            "_view_name": "LayoutView",
            "grid_template_rows": null,
            "right": null,
            "justify_content": null,
            "_view_module": "@jupyter-widgets/base",
            "overflow": null,
            "_model_module_version": "1.2.0",
            "_view_count": null,
            "flex_flow": null,
            "width": null,
            "min_width": null,
            "border": null,
            "align_items": null,
            "bottom": null,
            "_model_module": "@jupyter-widgets/base",
            "top": null,
            "grid_column": null,
            "overflow_y": null,
            "overflow_x": null,
            "grid_auto_flow": null,
            "grid_area": null,
            "grid_template_columns": null,
            "flex": null,
            "_model_name": "LayoutModel",
            "justify_items": null,
            "grid_row": null,
            "max_height": null,
            "align_content": null,
            "visibility": null,
            "align_self": null,
            "height": null,
            "min_height": null,
            "padding": null,
            "grid_auto_rows": null,
            "grid_gap": null,
            "max_width": null,
            "order": null,
            "_view_module_version": "1.2.0",
            "grid_template_areas": null,
            "object_position": null,
            "object_fit": null,
            "grid_auto_columns": null,
            "margin": null,
            "display": null,
            "left": null
          }
        }
      }
    }
  },
  "cells": [
    {
      "cell_type": "markdown",
      "metadata": {
        "id": "8xqMvD2ApAzG"
      },
      "source": [
        "In this project, you'll train an image classifier to recognize different species of flowers. We'll be using [this dataset](http://www.robots.ox.ac.uk/~vgg/data/flowers/102/index.html) of 102 flower categories. \n",
        "\n",
        "The project is broken down into multiple steps:\n",
        "\n",
        "* Load and preprocess the image dataset\n",
        "* Train the image classifier on your dataset\n",
        "* Use the trained classifier to predict image content"
      ]
    },
    {
      "cell_type": "code",
      "metadata": {
        "id": "SO7G2vnUpAzP"
      },
      "source": [
        "%matplotlib inline\n",
        "%config InlineBackend.figure_format = 'retina'\n",
        "\n",
        "import matplotlib.pyplot as plt\n",
        "\n",
        "import numpy as np\n",
        "import torch\n",
        "from torch import nn\n",
        "from torch import optim\n",
        "import torch.nn.functional as F\n",
        "from torchvision import datasets, transforms, models\n",
        "import time\n",
        "import json\n",
        "from collections import OrderedDict\n",
        "from PIL import Image"
      ],
      "execution_count": 7,
      "outputs": []
    },
    {
      "cell_type": "code",
      "metadata": {
        "colab": {
          "base_uri": "https://localhost:8080/"
        },
        "id": "9W8oH0HUpKOU",
        "outputId": "4ac5aebf-c810-4bdc-b9f0-751b33da09d2"
      },
      "source": [
        "from google.colab import drive\n",
        "drive.mount('/content/drive')"
      ],
      "execution_count": 8,
      "outputs": [
        {
          "output_type": "stream",
          "text": [
            "Mounted at /content/drive\n"
          ],
          "name": "stdout"
        }
      ]
    },
    {
      "cell_type": "markdown",
      "metadata": {
        "id": "DqifW2qDpAzQ"
      },
      "source": [
        "## Load the data\n",
        "\n",
        "The dataset is split into three parts, training, validation, and testing. For the training, you'll want to apply transformations such as random scaling, cropping, and flipping. This will help the network generalize leading to better performance. You'll also need to make sure the input data is resized to 224x224 pixels as required by the pre-trained networks.\n",
        "\n",
        "The validation and testing sets are used to measure the model's performance on data it hasn't seen yet. For this you don't want any scaling or rotation transformations, but you'll need to resize then crop the images to the appropriate size.\n",
        "\n",
        "For all three sets you'll need to normalize the means and standard deviations of the images to what the network expects. For the means, it's `[0.485, 0.456, 0.406]` and for the standard deviations `[0.229, 0.224, 0.225]`. This converts the values of each color channel to be between -1 and 1 instead of 0 and 1."
      ]
    },
    {
      "cell_type": "code",
      "metadata": {
        "id": "sxVBZ7G9pAzR"
      },
      "source": [
        "# Create Directories for dataset\n",
        "train_dir = '/content/drive/MyDrive/Colab Notebooks/Flower-Image-Classification/flowers/train'\n",
        "valid_dir = '/content/drive/MyDrive/Colab Notebooks/Flower-Image-Classification/flowers/valid'\n",
        "test_dir = '/content/drive/MyDrive/Colab Notebooks/Flower-Image-Classification/flowers/test'"
      ],
      "execution_count": 9,
      "outputs": []
    },
    {
      "cell_type": "code",
      "metadata": {
        "id": "Xwv4mDTWpAzR"
      },
      "source": [
        "# Define your transforms for the training, validation, and testing sets\n",
        "train_transforms = transforms.Compose([transforms.RandomResizedCrop(224),\n",
        "                                       transforms.ToTensor(),\n",
        "                                       transforms.Normalize([0.485, 0.456, 0.406],\n",
        "                                                            [0.229, 0.224, 0.225])])\n",
        "\n",
        "valid_transforms = transforms.Compose([transforms.Resize(255),\n",
        "                                      transforms.CenterCrop(224),\n",
        "                                      transforms.ToTensor(),\n",
        "                                      transforms.Normalize([0.485, 0.456, 0.406],\n",
        "                                                           [0.229, 0.224, 0.225])])\n",
        "\n",
        "test_transforms = transforms.Compose([transforms.Resize(255),\n",
        "                                      transforms.CenterCrop(224),\n",
        "                                      transforms.ToTensor(),\n",
        "                                      transforms.Normalize([0.485, 0.456, 0.406],\n",
        "                                                           [0.229, 0.224, 0.225])])\n",
        "\n",
        "# Load the datasets with ImageFolder\n",
        "train_data = datasets.ImageFolder(train_dir, transform=train_transforms)\n",
        "valid_data = datasets.ImageFolder(valid_dir, transform=valid_transforms)\n",
        "test_data = datasets.ImageFolder(test_dir, transform=test_transforms)\n",
        "\n",
        "# Using the image datasets and the trainforms, define the dataloaders\n",
        "trainloader = torch.utils.data.DataLoader(train_data, batch_size=64, shuffle=True)\n",
        "validloader = torch.utils.data.DataLoader(valid_data, batch_size=64, shuffle=False)\n",
        "testloader = torch.utils.data.DataLoader(test_data, batch_size=64)"
      ],
      "execution_count": 10,
      "outputs": []
    },
    {
      "cell_type": "markdown",
      "metadata": {
        "id": "fJIsCSIipAzS"
      },
      "source": [
        "### Label mapping\n",
        "\n",
        "You'll also need to load in a mapping from category label to category name. You can find this in the file `cat_to_name.json`. This will give you a dictionary mapping the integer encoded categories to the actual names of the flowers."
      ]
    },
    {
      "cell_type": "code",
      "metadata": {
        "id": "8RYNmSuSpAzU"
      },
      "source": [
        "import json\n",
        "labelfile_path = '/content/drive/MyDrive/Colab Notebooks/Flower-Image-Classification/cat_to_name.json'\n",
        "\n",
        "with open(labelfile_path, 'r') as f:\n",
        "    cat_to_name = json.load(f)"
      ],
      "execution_count": 11,
      "outputs": []
    },
    {
      "cell_type": "markdown",
      "metadata": {
        "id": "HtR4XdlypAzU"
      },
      "source": [
        "# Building and training the classifier\n",
        "\n",
        "Now that the data is ready, it's time to build and train the classifier. As usual, you should use one of the pretrained models from `torchvision.models` to get the image features. Build and train a new feed-forward classifier using those features."
      ]
    },
    {
      "cell_type": "code",
      "metadata": {
        "id": "OHcKxoOypAzV",
        "colab": {
          "base_uri": "https://localhost:8080/",
          "height": 884,
          "referenced_widgets": [
            "f4502809ef474d1997e536b477ebe384",
            "4e63d85a39974054967d9dc48100dd97",
            "82b3ad02c3944b74a40e020648da273a",
            "610b7a81454544588c53a6138825f1fa",
            "e808a2aa1f82499bb82690c99f0d9e05",
            "b041db7483254741aff37f7c45e9296a",
            "78853d7c12254f5f8934960e4e4a8009",
            "7f7b36f49ae84ad99a04ecc18f8ee749"
          ]
        },
        "outputId": "389e7ccf-5ac9-41a3-b15b-18f7dc611da3"
      },
      "source": [
        "# Load a pre-trained network (VGG networks work great and are straightforward to use)\n",
        "model = models.vgg16(pretrained=True)\n",
        "model"
      ],
      "execution_count": 12,
      "outputs": [
        {
          "output_type": "stream",
          "text": [
            "Downloading: \"https://download.pytorch.org/models/vgg16-397923af.pth\" to /root/.cache/torch/hub/checkpoints/vgg16-397923af.pth\n"
          ],
          "name": "stderr"
        },
        {
          "output_type": "display_data",
          "data": {
            "application/vnd.jupyter.widget-view+json": {
              "model_id": "f4502809ef474d1997e536b477ebe384",
              "version_minor": 0,
              "version_major": 2
            },
            "text/plain": [
              "HBox(children=(FloatProgress(value=0.0, max=553433881.0), HTML(value='')))"
            ]
          },
          "metadata": {
            "tags": []
          }
        },
        {
          "output_type": "stream",
          "text": [
            "\n"
          ],
          "name": "stdout"
        },
        {
          "output_type": "execute_result",
          "data": {
            "text/plain": [
              "VGG(\n",
              "  (features): Sequential(\n",
              "    (0): Conv2d(3, 64, kernel_size=(3, 3), stride=(1, 1), padding=(1, 1))\n",
              "    (1): ReLU(inplace=True)\n",
              "    (2): Conv2d(64, 64, kernel_size=(3, 3), stride=(1, 1), padding=(1, 1))\n",
              "    (3): ReLU(inplace=True)\n",
              "    (4): MaxPool2d(kernel_size=2, stride=2, padding=0, dilation=1, ceil_mode=False)\n",
              "    (5): Conv2d(64, 128, kernel_size=(3, 3), stride=(1, 1), padding=(1, 1))\n",
              "    (6): ReLU(inplace=True)\n",
              "    (7): Conv2d(128, 128, kernel_size=(3, 3), stride=(1, 1), padding=(1, 1))\n",
              "    (8): ReLU(inplace=True)\n",
              "    (9): MaxPool2d(kernel_size=2, stride=2, padding=0, dilation=1, ceil_mode=False)\n",
              "    (10): Conv2d(128, 256, kernel_size=(3, 3), stride=(1, 1), padding=(1, 1))\n",
              "    (11): ReLU(inplace=True)\n",
              "    (12): Conv2d(256, 256, kernel_size=(3, 3), stride=(1, 1), padding=(1, 1))\n",
              "    (13): ReLU(inplace=True)\n",
              "    (14): Conv2d(256, 256, kernel_size=(3, 3), stride=(1, 1), padding=(1, 1))\n",
              "    (15): ReLU(inplace=True)\n",
              "    (16): MaxPool2d(kernel_size=2, stride=2, padding=0, dilation=1, ceil_mode=False)\n",
              "    (17): Conv2d(256, 512, kernel_size=(3, 3), stride=(1, 1), padding=(1, 1))\n",
              "    (18): ReLU(inplace=True)\n",
              "    (19): Conv2d(512, 512, kernel_size=(3, 3), stride=(1, 1), padding=(1, 1))\n",
              "    (20): ReLU(inplace=True)\n",
              "    (21): Conv2d(512, 512, kernel_size=(3, 3), stride=(1, 1), padding=(1, 1))\n",
              "    (22): ReLU(inplace=True)\n",
              "    (23): MaxPool2d(kernel_size=2, stride=2, padding=0, dilation=1, ceil_mode=False)\n",
              "    (24): Conv2d(512, 512, kernel_size=(3, 3), stride=(1, 1), padding=(1, 1))\n",
              "    (25): ReLU(inplace=True)\n",
              "    (26): Conv2d(512, 512, kernel_size=(3, 3), stride=(1, 1), padding=(1, 1))\n",
              "    (27): ReLU(inplace=True)\n",
              "    (28): Conv2d(512, 512, kernel_size=(3, 3), stride=(1, 1), padding=(1, 1))\n",
              "    (29): ReLU(inplace=True)\n",
              "    (30): MaxPool2d(kernel_size=2, stride=2, padding=0, dilation=1, ceil_mode=False)\n",
              "  )\n",
              "  (avgpool): AdaptiveAvgPool2d(output_size=(7, 7))\n",
              "  (classifier): Sequential(\n",
              "    (0): Linear(in_features=25088, out_features=4096, bias=True)\n",
              "    (1): ReLU(inplace=True)\n",
              "    (2): Dropout(p=0.5, inplace=False)\n",
              "    (3): Linear(in_features=4096, out_features=4096, bias=True)\n",
              "    (4): ReLU(inplace=True)\n",
              "    (5): Dropout(p=0.5, inplace=False)\n",
              "    (6): Linear(in_features=4096, out_features=1000, bias=True)\n",
              "  )\n",
              ")"
            ]
          },
          "metadata": {
            "tags": []
          },
          "execution_count": 12
        }
      ]
    },
    {
      "cell_type": "code",
      "metadata": {
        "id": "SP0pc6zC6Dn6"
      },
      "source": [
        "# Freeze parameters so we don't backprop through them\r\n",
        "\r\n",
        "for param in model.parameters():\r\n",
        "    param.requires_grad = False\r\n",
        "\r\n",
        "# Define a new, untrained feed-forward network as a classifier, using ReLU activations and dropout\r\n",
        "\r\n",
        "classifier = nn.Sequential(OrderedDict([\r\n",
        "                          ('fc1', nn.Linear(25088, 500)),\r\n",
        "                          ('relu', nn.ReLU()),\r\n",
        "                          ('droupout', nn.Dropout(0.2)),\r\n",
        "                          ('fc2', nn.Linear(500, 102)),\r\n",
        "                          ('output', nn.LogSoftmax(dim=1))\r\n",
        "                          ]))\r\n",
        "    \r\n",
        "model.classifier = classifier\r\n",
        "    \r\n",
        "# setting criterion/loss function\r\n",
        "criterion = nn.NLLLoss()\r\n",
        "\r\n",
        "# Use of Adam optimiser, which uses momentum to avoid local minima thus better predictions\r\n",
        "optimizer = optim.Adam(model.classifier.parameters(), lr=0.0009)"
      ],
      "execution_count": 14,
      "outputs": []
    },
    {
      "cell_type": "code",
      "metadata": {
        "colab": {
          "base_uri": "https://localhost:8080/"
        },
        "id": "-r5jCXDX6F1x",
        "outputId": "d6b7c9bb-c7c8-4d5d-e6bb-a4d21623cc64"
      },
      "source": [
        "#  Train the classifier layers using backpropagation using the pre-trained network to get the features\r\n",
        "\r\n",
        "epochs = 1\r\n",
        "steps = 0\r\n",
        "print_every = 3\r\n",
        "\r\n",
        "for epoch in range(epochs):\r\n",
        "    since = time.time()\r\n",
        "    running_loss = 0\r\n",
        "    for inputs, labels in trainloader:\r\n",
        "        steps += 1\r\n",
        "        \r\n",
        "        # zeroing parameter gradients\r\n",
        "        optimizer.zero_grad()\r\n",
        "        \r\n",
        "        outputs = model.forward(inputs)\r\n",
        "        loss = criterion(outputs, labels)\r\n",
        "        loss.backward()\r\n",
        "        optimizer.step()\r\n",
        "\r\n",
        "        running_loss += loss.item()\r\n",
        "        \r\n",
        "        # Carrying out validation step. Track the loss and accuracy on the validation set to determine the best hyperparameters\r\n",
        "        \r\n",
        "        if steps % print_every == 0:\r\n",
        "            valid_loss = 0\r\n",
        "            accuracy = 0\r\n",
        "            # setting model to evaluation mode during validation\r\n",
        "            model.eval()\r\n",
        "            # Gradients are turned off as no longer in training\r\n",
        "            with torch.no_grad():\r\n",
        "                for inputs, labels in validloader:\r\n",
        "                    outputs = model.forward(inputs)\r\n",
        "                    batch_loss = criterion(outputs, labels)\r\n",
        "                    \r\n",
        "                    valid_loss += batch_loss.item()\r\n",
        "                    \r\n",
        "                    ps = torch.exp(outputs)\r\n",
        "                    \r\n",
        "                    # Calculate accuracy\r\n",
        "                    equality = (labels.data == ps.max(dim=1)[1])\r\n",
        "                    accuracy += equality.type(torch.FloatTensor).mean()\r\n",
        "                    \r\n",
        "            print(f\"Epoch {epoch+1}/{epochs}.. \"\r\n",
        "                  f\"Train loss: {running_loss/print_every:.3f}.. \"\r\n",
        "                  f\"Valid loss: {valid_loss/len(validloader):.3f}.. \"\r\n",
        "                  f\"Valid accuracy: {accuracy/len(validloader):.3f}\")\r\n",
        "            \r\n",
        "            running_loss = 0\r\n",
        "            \r\n",
        "            # Turning training back on\r\n",
        "            model.train()\r\n",
        "            \r\n",
        "    time_taken = time.time() - since\r\n",
        "    print(f\"Time taken for epoch: {time_taken} seconds\")"
      ],
      "execution_count": 15,
      "outputs": [
        {
          "output_type": "stream",
          "text": [
            "Epoch 1/1.. Train loss: 4.751.. Valid loss: 5.224.. Valid accuracy: 0.109\n",
            "Epoch 1/1.. Train loss: 4.839.. Valid loss: 4.308.. Valid accuracy: 0.232\n",
            "Epoch 1/1.. Train loss: 4.250.. Valid loss: 3.899.. Valid accuracy: 0.269\n",
            "Epoch 1/1.. Train loss: 3.881.. Valid loss: 3.510.. Valid accuracy: 0.284\n",
            "Epoch 1/1.. Train loss: 3.581.. Valid loss: 3.086.. Valid accuracy: 0.375\n",
            "Epoch 1/1.. Train loss: 3.359.. Valid loss: 2.846.. Valid accuracy: 0.405\n",
            "Epoch 1/1.. Train loss: 3.030.. Valid loss: 2.719.. Valid accuracy: 0.394\n",
            "Epoch 1/1.. Train loss: 2.918.. Valid loss: 2.417.. Valid accuracy: 0.469\n",
            "Epoch 1/1.. Train loss: 2.727.. Valid loss: 2.213.. Valid accuracy: 0.502\n",
            "Epoch 1/1.. Train loss: 2.444.. Valid loss: 2.012.. Valid accuracy: 0.550\n",
            "Epoch 1/1.. Train loss: 2.368.. Valid loss: 1.894.. Valid accuracy: 0.559\n",
            "Epoch 1/1.. Train loss: 2.195.. Valid loss: 1.753.. Valid accuracy: 0.578\n",
            "Epoch 1/1.. Train loss: 2.076.. Valid loss: 1.674.. Valid accuracy: 0.592\n",
            "Epoch 1/1.. Train loss: 2.216.. Valid loss: 1.527.. Valid accuracy: 0.610\n",
            "Epoch 1/1.. Train loss: 1.988.. Valid loss: 1.356.. Valid accuracy: 0.666\n",
            "Epoch 1/1.. Train loss: 1.826.. Valid loss: 1.298.. Valid accuracy: 0.690\n",
            "Epoch 1/1.. Train loss: 1.952.. Valid loss: 1.256.. Valid accuracy: 0.691\n",
            "Epoch 1/1.. Train loss: 1.979.. Valid loss: 1.279.. Valid accuracy: 0.677\n",
            "Epoch 1/1.. Train loss: 1.693.. Valid loss: 1.264.. Valid accuracy: 0.673\n",
            "Epoch 1/1.. Train loss: 1.801.. Valid loss: 1.191.. Valid accuracy: 0.678\n",
            "Epoch 1/1.. Train loss: 1.729.. Valid loss: 1.108.. Valid accuracy: 0.712\n",
            "Epoch 1/1.. Train loss: 1.607.. Valid loss: 1.101.. Valid accuracy: 0.721\n",
            "Epoch 1/1.. Train loss: 1.622.. Valid loss: 1.029.. Valid accuracy: 0.732\n",
            "Epoch 1/1.. Train loss: 1.754.. Valid loss: 0.920.. Valid accuracy: 0.765\n",
            "Epoch 1/1.. Train loss: 1.662.. Valid loss: 0.878.. Valid accuracy: 0.782\n",
            "Epoch 1/1.. Train loss: 1.587.. Valid loss: 0.877.. Valid accuracy: 0.769\n",
            "Epoch 1/1.. Train loss: 1.623.. Valid loss: 0.845.. Valid accuracy: 0.775\n",
            "Epoch 1/1.. Train loss: 1.410.. Valid loss: 0.809.. Valid accuracy: 0.780\n",
            "Epoch 1/1.. Train loss: 1.355.. Valid loss: 0.821.. Valid accuracy: 0.764\n",
            "Epoch 1/1.. Train loss: 1.486.. Valid loss: 0.814.. Valid accuracy: 0.775\n",
            "Epoch 1/1.. Train loss: 1.424.. Valid loss: 0.800.. Valid accuracy: 0.776\n",
            "Epoch 1/1.. Train loss: 1.356.. Valid loss: 0.715.. Valid accuracy: 0.815\n",
            "Epoch 1/1.. Train loss: 1.451.. Valid loss: 0.697.. Valid accuracy: 0.816\n",
            "Epoch 1/1.. Train loss: 1.428.. Valid loss: 0.693.. Valid accuracy: 0.816\n",
            "Time taken for epoch: 17128.023520946503 seconds\n"
          ],
          "name": "stdout"
        }
      ]
    },
    {
      "cell_type": "markdown",
      "metadata": {
        "id": "nF5IB7qypAzX"
      },
      "source": [
        "## Testing your network\n",
        "\n",
        "It's good practice to test your trained network on test data, images the network has never seen either in training or validation. This will give you a good estimate for the model's performance on completely new images. Run the test images through the network and measure the accuracy, the same way you did validation. You should be able to reach around 70% accuracy on the test set if the model has been trained well."
      ]
    },
    {
      "cell_type": "code",
      "metadata": {
        "id": "eeNNcyfIpAzX",
        "colab": {
          "base_uri": "https://localhost:8080/"
        },
        "outputId": "9bee174e-73ac-4165-de41-af32b972db90"
      },
      "source": [
        "# Do validation on the test set\r\n",
        "\r\n",
        "test_loss = 0\r\n",
        "accuracy = 0\r\n",
        "# setting model to evaluation mode during validation\r\n",
        "model.eval()\r\n",
        "# Gradients are turned off as no longer in training\r\n",
        "with torch.no_grad():\r\n",
        "    for inputs, labels in testloader:\r\n",
        "        outputs = model.forward(inputs)\r\n",
        "        batch_loss = criterion(outputs, labels)\r\n",
        "                    \r\n",
        "        test_loss += batch_loss.item()\r\n",
        "                                       \r\n",
        "        ps = torch.exp(outputs)\r\n",
        "                    \r\n",
        "        # Calculate accuracy\r\n",
        "        equality = (labels.data == ps.max(dim=1)[1])\r\n",
        "        accuracy += equality.type(torch.FloatTensor).mean()\r\n",
        "                    \r\n",
        "print(f\"Test accuracy: {100 * accuracy / len(testloader)}%\")"
      ],
      "execution_count": 16,
      "outputs": [
        {
          "output_type": "stream",
          "text": [
            "Test accuracy: 75.48274230957031%\n"
          ],
          "name": "stdout"
        }
      ]
    },
    {
      "cell_type": "markdown",
      "metadata": {
        "id": "D4V0vupupAzX"
      },
      "source": [
        "## Save the checkpoint\n",
        "\n",
        "Now that your network is trained, save the model so you can load it later for making predictions. You probably want to save other things such as the mapping of classes to indices which you get from one of the image datasets: `image_datasets['train'].class_to_idx`. You can attach this to the model as an attribute which makes inference easier later on.\n",
        "\n",
        "```model.class_to_idx = image_datasets['train'].class_to_idx```\n",
        "\n",
        "Remember that you'll want to completely rebuild the model later so you can use it for inference. Make sure to include any information you need in the checkpoint. If you want to load the model and keep training, you'll want to save the number of epochs as well as the optimizer state, `optimizer.state_dict`. You'll likely want to use this trained model in the next part of the project, so best to save it now."
      ]
    },
    {
      "cell_type": "code",
      "metadata": {
        "id": "oMr6dD7vpAzY"
      },
      "source": [
        "# Save the checkpoint \r\n",
        "checkpoint = {'state_dict': model.state_dict(),\r\n",
        "              'classifier': model.classifier,\r\n",
        "              'class_to_idx': train_data.class_to_idx,\r\n",
        "              'opt_state': optimizer.state_dict,\r\n",
        "              'num_epochs': epochs}\r\n",
        "\r\n",
        "torch.save(checkpoint, 'checkpoint.pth')"
      ],
      "execution_count": 17,
      "outputs": []
    },
    {
      "cell_type": "markdown",
      "metadata": {
        "id": "AM0vMUDZpAzZ"
      },
      "source": [
        "## Loading the checkpoint\n",
        "\n",
        "At this point it's good to write a function that can load a checkpoint and rebuild the model. That way you can come back to this project and keep working on it without having to retrain the network."
      ]
    },
    {
      "cell_type": "code",
      "metadata": {
        "id": "D1VIM8n0pAzZ"
      },
      "source": [
        "# Write a function that loads a checkpoint and rebuilds the model\r\n",
        "\r\n",
        "def load_checkpoint(filepath):\r\n",
        "    checkpoint = torch.load(filepath)      \r\n",
        "    model.classifier = checkpoint['classifier'] \r\n",
        "    model.class_to_idx = checkpoint['class_to_idx']\r\n",
        "    model.load_state_dict(checkpoint['state_dict'])\r\n",
        "    \r\n",
        "    return model"
      ],
      "execution_count": 18,
      "outputs": []
    },
    {
      "cell_type": "code",
      "metadata": {
        "colab": {
          "base_uri": "https://localhost:8080/"
        },
        "id": "l79nM0jba7hx",
        "outputId": "439d3f0d-e1af-4616-e591-2ea5a2b3b96e"
      },
      "source": [
        "# Loading model\r\n",
        "model = load_checkpoint('checkpoint.pth')\r\n",
        "print(model)"
      ],
      "execution_count": 19,
      "outputs": [
        {
          "output_type": "stream",
          "text": [
            "VGG(\n",
            "  (features): Sequential(\n",
            "    (0): Conv2d(3, 64, kernel_size=(3, 3), stride=(1, 1), padding=(1, 1))\n",
            "    (1): ReLU(inplace=True)\n",
            "    (2): Conv2d(64, 64, kernel_size=(3, 3), stride=(1, 1), padding=(1, 1))\n",
            "    (3): ReLU(inplace=True)\n",
            "    (4): MaxPool2d(kernel_size=2, stride=2, padding=0, dilation=1, ceil_mode=False)\n",
            "    (5): Conv2d(64, 128, kernel_size=(3, 3), stride=(1, 1), padding=(1, 1))\n",
            "    (6): ReLU(inplace=True)\n",
            "    (7): Conv2d(128, 128, kernel_size=(3, 3), stride=(1, 1), padding=(1, 1))\n",
            "    (8): ReLU(inplace=True)\n",
            "    (9): MaxPool2d(kernel_size=2, stride=2, padding=0, dilation=1, ceil_mode=False)\n",
            "    (10): Conv2d(128, 256, kernel_size=(3, 3), stride=(1, 1), padding=(1, 1))\n",
            "    (11): ReLU(inplace=True)\n",
            "    (12): Conv2d(256, 256, kernel_size=(3, 3), stride=(1, 1), padding=(1, 1))\n",
            "    (13): ReLU(inplace=True)\n",
            "    (14): Conv2d(256, 256, kernel_size=(3, 3), stride=(1, 1), padding=(1, 1))\n",
            "    (15): ReLU(inplace=True)\n",
            "    (16): MaxPool2d(kernel_size=2, stride=2, padding=0, dilation=1, ceil_mode=False)\n",
            "    (17): Conv2d(256, 512, kernel_size=(3, 3), stride=(1, 1), padding=(1, 1))\n",
            "    (18): ReLU(inplace=True)\n",
            "    (19): Conv2d(512, 512, kernel_size=(3, 3), stride=(1, 1), padding=(1, 1))\n",
            "    (20): ReLU(inplace=True)\n",
            "    (21): Conv2d(512, 512, kernel_size=(3, 3), stride=(1, 1), padding=(1, 1))\n",
            "    (22): ReLU(inplace=True)\n",
            "    (23): MaxPool2d(kernel_size=2, stride=2, padding=0, dilation=1, ceil_mode=False)\n",
            "    (24): Conv2d(512, 512, kernel_size=(3, 3), stride=(1, 1), padding=(1, 1))\n",
            "    (25): ReLU(inplace=True)\n",
            "    (26): Conv2d(512, 512, kernel_size=(3, 3), stride=(1, 1), padding=(1, 1))\n",
            "    (27): ReLU(inplace=True)\n",
            "    (28): Conv2d(512, 512, kernel_size=(3, 3), stride=(1, 1), padding=(1, 1))\n",
            "    (29): ReLU(inplace=True)\n",
            "    (30): MaxPool2d(kernel_size=2, stride=2, padding=0, dilation=1, ceil_mode=False)\n",
            "  )\n",
            "  (avgpool): AdaptiveAvgPool2d(output_size=(7, 7))\n",
            "  (classifier): Sequential(\n",
            "    (fc1): Linear(in_features=25088, out_features=500, bias=True)\n",
            "    (relu): ReLU()\n",
            "    (droupout): Dropout(p=0.2, inplace=False)\n",
            "    (fc2): Linear(in_features=500, out_features=102, bias=True)\n",
            "    (output): LogSoftmax(dim=1)\n",
            "  )\n",
            ")\n"
          ],
          "name": "stdout"
        }
      ]
    },
    {
      "cell_type": "markdown",
      "metadata": {
        "id": "0FbZe-icpAzZ"
      },
      "source": [
        "# Inference for classification\n",
        "\n",
        "Now you'll write a function to use a trained network for inference. That is, you'll pass an image into the network and predict the class of the flower in the image. Write a function called `predict` that takes an image and a model, then returns the top $K$ most likely classes along with the probabilities. \n",
        "```\n",
        "\n",
        "First you'll need to handle processing the input image such that it can be used in your network. \n",
        "\n",
        "## Image Preprocessing\n",
        "\n",
        "You'll want to use `PIL` to load the image ([documentation](https://pillow.readthedocs.io/en/latest/reference/Image.html)). It's best to write a function that preprocesses the image so it can be used as input for the model. This function should process the images in the same manner used for training. \n",
        "\n",
        "First, resize the images where the shortest side is 256 pixels, keeping the aspect ratio. This can be done with the [`thumbnail`](http://pillow.readthedocs.io/en/3.1.x/reference/Image.html#PIL.Image.Image.thumbnail) or [`resize`](http://pillow.readthedocs.io/en/3.1.x/reference/Image.html#PIL.Image.Image.thumbnail) methods. Then you'll need to crop out the center 224x224 portion of the image.\n",
        "\n",
        "Color channels of images are typically encoded as integers 0-255, but the model expected floats 0-1. You'll need to convert the values. It's easiest with a Numpy array, which you can get from a PIL image like so `np_image = np.array(pil_image)`.\n",
        "\n",
        "As before, the network expects the images to be normalized in a specific way. For the means, it's `[0.485, 0.456, 0.406]` and for the standard deviations `[0.229, 0.224, 0.225]`. You'll want to subtract the means from each color channel, then divide by the standard deviation. \n",
        "\n",
        "And finally, PyTorch expects the color channel to be the first dimension but it's the third dimension in the PIL image and Numpy array. You can reorder dimensions using [`ndarray.transpose`](https://docs.scipy.org/doc/numpy-1.13.0/reference/generated/numpy.ndarray.transpose.html). The color channel needs to be first and retain the order of the other two dimensions."
      ]
    },
    {
      "cell_type": "code",
      "metadata": {
        "id": "hfuIh_LipAza"
      },
      "source": [
        "def process_image(image):\n",
        "    ''' Scales, crops, and normalizes a PIL image for a PyTorch model,\n",
        "        returns an Numpy array\n",
        "    '''\n",
        "    \n",
        "    # Process a PIL image for use in a PyTorch model\n",
        "    # Convert image to PIL image using image file path\n",
        "    pil_image = Image.open(f'{image}' + '.jpg')\n",
        "\n",
        "    # image transformation\n",
        "    transform = transforms.Compose([transforms.Resize(256),\n",
        "                                    transforms.CenterCrop(224),\n",
        "                                    transforms.ToTensor(),\n",
        "                                    transforms.Normalize([0.485, 0.456, 0.406], \n",
        "                                                         [0.229, 0.224, 0.225])]) \n",
        "    \n",
        "    # Transfer image for use in network\n",
        "    pil_transform = transform(pil_image)\n",
        "    \n",
        "    # Convert to Numpy array \n",
        "    np.image = np.array(pil_transform)\n",
        "    \n",
        "    return np.image"
      ],
      "execution_count": 20,
      "outputs": []
    },
    {
      "cell_type": "markdown",
      "metadata": {
        "id": "lLfK-Pr0pAza"
      },
      "source": [
        "To check your work, the function below converts a PyTorch tensor and displays it in the notebook. If your `process_image` function works, running the output through this function should return the original image (except for the cropped out portions)."
      ]
    },
    {
      "cell_type": "code",
      "metadata": {
        "id": "hPf29DjepAza"
      },
      "source": [
        "def imshow(image, ax=None, title=None):\n",
        "    \"\"\"Imshow for Tensor.\"\"\"\n",
        "    if ax is None:\n",
        "        fig, ax = plt.subplots()\n",
        "    \n",
        "    # PyTorch tensors assume the color channel is the first dimension\n",
        "    # but matplotlib assumes is the third dimension\n",
        "    image = image.transpose((1, 2, 0))\n",
        "    \n",
        "    # Undo preprocessing\n",
        "    mean = np.array([0.485, 0.456, 0.406])\n",
        "    std = np.array([0.229, 0.224, 0.225])\n",
        "    image = std * image + mean\n",
        "    \n",
        "    # Image needs to be clipped between 0 and 1 or it looks like noise when displayed\n",
        "    image = np.clip(image, 0, 1)\n",
        "    \n",
        "    ax.imshow(image)\n",
        "    \n",
        "    return ax"
      ],
      "execution_count": 21,
      "outputs": []
    },
    {
      "cell_type": "markdown",
      "metadata": {
        "id": "VYFg_a1opAzb"
      },
      "source": [
        "## Class Prediction\n",
        "\n",
        "Once you can get images in the correct format, it's time to write a function for making predictions with your model. A common practice is to predict the top 5 or so (usually called top-$K$) most probable classes. You'll want to calculate the class probabilities then find the $K$ largest values.\n",
        "\n",
        "To get the top $K$ largest values in a tensor use [`x.topk(k)`](http://pytorch.org/docs/master/torch.html#torch.topk). This method returns both the highest `k` probabilities and the indices of those probabilities corresponding to the classes. You need to convert from these indices to the actual class labels using `class_to_idx` which hopefully you added to the model or from an `ImageFolder` you used to load the data ([see here](#Save-the-checkpoint)). Make sure to invert the dictionary so you get a mapping from index to class as well.\n",
        "\n",
        "Again, this method should take a path to an image and a model checkpoint, then return the probabilities and classes."
      ]
    },
    {
      "cell_type": "code",
      "metadata": {
        "id": "X_P8knARpAzb"
      },
      "source": [
        "def predict(image_path, model_path, topk=5):\n",
        "    ''' Predict the class (or classes) of an image using a trained deep learning model.\n",
        "    '''\n",
        "    \n",
        "    # Implement the code to predict the class from an image file\n",
        "     \n",
        "    # Load model\n",
        "    loaded_model = load_checkpoint(model_path)\n",
        "    \n",
        "    # Pre-process image\n",
        "    imag = process_image(image_path)\n",
        "    \n",
        "    # Convert to torch_tensor from Numpy\n",
        "    imag_tensor = torch.from_numpy(imag).type(torch.cuda.FloatTensor)\n",
        "    \n",
        "    # Add dimension to image to comply with (B x C x W x H) input of model\n",
        "    imag_add_dim = imag_tensor.unsqueeze_(0)\n",
        "\n",
        "    # Set evaluation mode and turn off gradients\n",
        "    loaded_model.eval()\n",
        "    with torch.no_grad():\n",
        "        \n",
        "        # Run image via. network\n",
        "        output = loaded_model.forward(imag_add_dim)\n",
        "\n",
        "    # Calculate probabilities\n",
        "    probs = torch.exp(output)\n",
        "    probs_top = probs.topk(topk)[0]\n",
        "    index_top = probs.topk(topk)[1]\n",
        "    \n",
        "    # Convert probabilities to lists\n",
        "    probs_top_list = np.array(probs_top)[0]\n",
        "    index_top_list = np.array(index_top[0])\n",
        "    \n",
        "    # Loading index and class mapping\n",
        "    class_to_idx = loaded_model.class_to_idx\n",
        "    \n",
        "    # Invert index-class dictionary\n",
        "    indx_to_class = {x: y for y, x in class_to_idx.items()}\n",
        "\n",
        "    # Convert index list to class list\n",
        "    classes_top_list = []\n",
        "    for index in index_top_list:\n",
        "        classes_top_list += [indx_to_class[index]]\n",
        "        \n",
        "    return probs_top_list, classes_top_list"
      ],
      "execution_count": 33,
      "outputs": []
    }
  ]
}